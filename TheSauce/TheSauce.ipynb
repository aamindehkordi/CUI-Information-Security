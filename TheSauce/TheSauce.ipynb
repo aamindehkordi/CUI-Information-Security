{
 "cells": [
  {
   "cell_type": "code",
   "execution_count": 3,
   "id": "0876c198-73e2-4afe-bf99-6320d5f8011a",
   "metadata": {
    "pycharm": {
     "name": "#%%\n"
    }
   },
   "outputs": [
    {
     "ename": "SyntaxError",
     "evalue": "invalid syntax (2249280893.py, line 1)",
     "output_type": "error",
     "traceback": [
      "\u001B[0;36m  Input \u001B[0;32mIn [3]\u001B[0;36m\u001B[0m\n\u001B[0;31m    Caesar: https://www.dcode.fr/caesar-cipher\u001B[0m\n\u001B[0m                 ^\u001B[0m\n\u001B[0;31mSyntaxError\u001B[0m\u001B[0;31m:\u001B[0m invalid syntax\n"
     ]
    }
   ],
   "source": [
    "Caesar: https://www.dcode.fr/caesar-cipher"
   ]
  },
  {
   "cell_type": "code",
   "execution_count": 4,
   "id": "0caad764-50ca-443b-bb59-c3a8ab97a2ec",
   "metadata": {
    "pycharm": {
     "name": "#%%\n"
    }
   },
   "outputs": [
    {
     "ename": "SyntaxError",
     "evalue": "invalid syntax (3124837654.py, line 1)",
     "output_type": "error",
     "traceback": [
      "\u001B[0;36m  Input \u001B[0;32mIn [4]\u001B[0;36m\u001B[0m\n\u001B[0;31m    Monoalphabetic: https://www.dcode.fr/monoalphabetic-substitution\u001B[0m\n\u001B[0m                         ^\u001B[0m\n\u001B[0;31mSyntaxError\u001B[0m\u001B[0;31m:\u001B[0m invalid syntax\n"
     ]
    }
   ],
   "source": [
    "Monoalphabetic: https://www.dcode.fr/monoalphabetic-substitution"
   ]
  },
  {
   "cell_type": "code",
   "execution_count": 1,
   "id": "b4a0bd68-98a7-4fc4-9b8a-df0f5bf0f865",
   "metadata": {
    "pycharm": {
     "name": "#%%\n"
    }
   },
   "outputs": [],
   "source": [
    "#Vigenere Decrypt:\n",
    "\n",
    "def vig_decrypt(textfile):\n",
    "    import vigenere\n",
    "\n",
    "    with open(textfile) as f:\n",
    "        hw = f.read()\n",
    "    ciphertext = hw.replace(\" \", \"\").replace(\".\", \"\").replace(\"'\",\"\").replace(\"-\",\"\").replace(\",\",\"\").replace(\"\\r\",\"\").replace(\"\\n\",\"\")\n",
    "\n",
    "\n",
    "    possible_key_lengths = []\n",
    "    for i in range(2, 15):\n",
    "        sequences = vigenere.sequence_lists(ciphertext, i)\n",
    "        spans = vigenere.sequence_span_lengths(sequences)\n",
    "        factors = vigenere.sequence_length_factors(spans)\n",
    "        common_factors = vigenere.find_common_factors(factors)\n",
    "        if len(common_factors) >= 1:\n",
    "            for f in common_factors:\n",
    "                if f not in possible_key_lengths:\n",
    "                    possible_key_lengths.append(f)\n",
    "\n",
    "    for l in possible_key_lengths:\n",
    "        split_ciphertext = vigenere.split_ciphertext_by_key_length(ciphertext, l)\n",
    "        print(f\"Printing possibilities for length of {l}\")\n",
    "        for i in range(len(split_ciphertext)):\n",
    "            print(vigenere.top3(split_ciphertext[i]))\n",
    "        print(\"\\n\\n\")\n",
    "    \n",
    "# Uncomment this line and replace <KEY> with the key you find or want to test.\n",
    "#print(vigenere.decrypt(ciphertext, \"<KEY>\")"
   ]
  },
  {
   "cell_type": "code",
   "execution_count": 2,
   "id": "d49492ea-a3a4-4c64-a614-f5fa17898ab0",
   "metadata": {
    "pycharm": {
     "name": "#%%\n"
    }
   },
   "outputs": [],
   "source": [
    "#One Time Pad:\n",
    "\n",
    "import otp\n",
    "    \n",
    "def bytes_to_bit_array(byte_string):\n",
    "    result = []\n",
    "    for ch in byte_string:\n",
    "        for shift in [7,6,5,4,3,2,1,0]:\n",
    "            bitMask = (1 << shift)\n",
    "            if ch & bitMask > 0:\n",
    "                result.append(1)\n",
    "            else:\n",
    "                result.append(0)\n",
    "    return result\n",
    "\n",
    "def bit_array_to_string(bitArray):\n",
    "    result = []\n",
    "    curr = 0\n",
    "    for i in range(len(bitArray)):\n",
    "        shift = (7 - (i % 8))\n",
    "        curr += bitArray[i] << shift\n",
    "        if (i % 8) == 7:\n",
    "            result.append(curr)\n",
    "            curr = 0\n",
    "    return bytes(result)\n",
    "\n",
    "def one_time_pad(data, key):\n",
    "    bit_array = bytes_to_bit_array(data)\n",
    "    key_array = bytes_to_bit_array(key)\n",
    "    paired  = [(d,k) for d,k in zip(bit_array,key_array)]\n",
    "    crypted = [d^k for d,k in paired]\n",
    "    crypted = bit_array_to_string(crypted)\n",
    "    return crypted\n",
    "\n",
    "def opp_time_pad(o, c):\n",
    "    \"\"\"\n",
    "    o -> output\n",
    "    c -> ciphertext\n",
    "    \"\"\"\n",
    "    paired  = [(d,k) for d,k in zip(o, c)]\n",
    "    crypted = [int.to_bytes(d^k, 1, 'big') for d,k in paired]\n",
    "    key = b\"\".join(crypted)\n",
    "    return key\n",
    "\n",
    "# Set ciphertext to whatever we have and with one_time_pad\n",
    "# Then use the opp_time_pad with the desired plaintext for o and the previously set ciphertext as c.\n",
    "#      This will give you the key to use with the ciphertext to get the desired plaintext."
   ]
  },
  {
   "cell_type": "code",
   "execution_count": 3,
   "id": "da352d12-5152-45fd-92f8-f66e246049f6",
   "metadata": {
    "pycharm": {
     "name": "#%%\n"
    }
   },
   "outputs": [],
   "source": [
    "#Enigma:\n",
    "# If you run it and get nothing with the rotor as \"B\", then you can switch it to the \"C\" one.\n",
    "import enigma\n",
    "from itertools import permutations\n",
    "from itertools import product\n",
    "\n",
    "def brute_force(message):\n",
    "    \n",
    "    first_six = message[:6]          # first 6 letters\n",
    "    ciphertext = message[6:].strip() # real ciphertext message\n",
    "    \n",
    "    rotors = [ \"I\", \"II\", \"III\", \"IV\", \"V\" ]\n",
    "    for rotor_l, rotor_m, rotor_r in permutations(rotors, 3):\n",
    "\n",
    "        scramblers = \"ABCDEFGHIJKLMNOPQRSTUVWXYZ\"\n",
    "        for start_l, start_m, start_r in product(scramblers, repeat=3):\n",
    "\n",
    "            m3 = enigma.m3(\"B\", rotor_l, rotor_m, rotor_r, start_l, start_m, start_r)\n",
    "            msg_key = [m3.keypress(ch) for ch in first_six]\n",
    "\n",
    "            if msg_key[0] == msg_key[3] and msg_key[1] == msg_key[4] and msg_key[2] == msg_key[5]:\n",
    "\n",
    "                plaintext = \"\"\n",
    "                m3 = enigma.m3(\"B\", rotor_l, rotor_m, rotor_r, msg_key[0], msg_key[1], msg_key[2])\n",
    "                for ch in ciphertext:\n",
    "                    plaintext += m3.keypress(ch)\n",
    "\n",
    "                settings = f\"{rotor_l} {rotor_m} {rotor_r} / {start_l} {start_m} {start_r}\"\n",
    "                print(f\"{settings:20} {plaintext}\")\n",
    "                \n",
    "                \n",
    "ciphertext = \"<INSERT CIPHERTEXT HERE>\"\n",
    "brute_force(ciphertext)"
   ]
  },
  {
   "cell_type": "code",
   "execution_count": null,
   "outputs": [],
   "source": [],
   "metadata": {
    "collapsed": false,
    "pycharm": {
     "name": "#%%\n"
    }
   }
  }
 ],
 "metadata": {
  "kernelspec": {
   "display_name": "Python 3 (ipykernel)",
   "language": "python",
   "name": "python3"
  },
  "language_info": {
   "codemirror_mode": {
    "name": "ipython",
    "version": 3
   },
   "file_extension": ".py",
   "mimetype": "text/x-python",
   "name": "python",
   "nbconvert_exporter": "python",
   "pygments_lexer": "ipython3",
   "version": "3.8.13"
  }
 },
 "nbformat": 4,
 "nbformat_minor": 5
}