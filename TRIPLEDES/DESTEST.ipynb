{
 "cells": [
  {
   "cell_type": "markdown",
   "source": [],
   "metadata": {
    "collapsed": false
   }
  },
  {
   "cell_type": "code",
   "execution_count": 1,
   "metadata": {
    "collapsed": true
   },
   "outputs": [],
   "source": [
    "import cui_des\n",
    "import homework10"
   ]
  },
  {
   "cell_type": "code",
   "execution_count": 2,
   "outputs": [],
   "source": [
    "ct1 = homework10.ciphertext1\n",
    "key1 = homework10.secret_key1\n",
    "ct2 = homework10.ciphertext2\n",
    "iv2 = homework10.initvector2\n",
    "key2 = homework10.secret_key2\n",
    "ct3 = homework10.ciphertext3\n",
    "iv3 = homework10.initvector3\n",
    "key3 = homework10.secret_key3"
   ],
   "metadata": {
    "collapsed": false
   }
  },
  {
   "cell_type": "code",
   "execution_count": 3,
   "outputs": [],
   "source": [
    "tecb = cui_des.TDES(key1, \"ECB\")"
   ],
   "metadata": {
    "collapsed": false
   }
  },
  {
   "cell_type": "code",
   "execution_count": 4,
   "outputs": [
    {
     "name": "stdout",
     "output_type": "stream",
     "text": [
      "decrypted pt: b'The urge to discover secrets is deeply ingrained in human nature; even the\\nleast curious mind is roused by the promise of sharing knowledge withheld\\nfrom others. Some are fortunate enough to find a job which consists in the\\nsolution of mysteries, but most of us are driven to sublimate this urge by the\\nsolving of artificial puzzles devised for our entertainment. Detective stories\\nor crossword puzzles cater for the majority; the solution of secret codes\\nmay be the pursuit of a few.\\n\\nJohn Chadwick\\nThe Decipherment of Linear B'\n"
     ]
    }
   ],
   "source": [
    "pt = tecb.decrypt(ct1)\n",
    "print(\"decrypted pt:\", pt)"
   ],
   "metadata": {
    "collapsed": false
   }
  },
  {
   "cell_type": "markdown",
   "source": [],
   "metadata": {
    "collapsed": false
   }
  },
  {
   "cell_type": "code",
   "execution_count": 5,
   "outputs": [],
   "source": [
    "cbc = cui_des.TDES(key2, \"CBC\", iv2)"
   ],
   "metadata": {
    "collapsed": false
   }
  },
  {
   "cell_type": "code",
   "execution_count": 6,
   "outputs": [
    {
     "name": "stdout",
     "output_type": "stream",
     "text": [
      "decrypted pt: b'For thousands of years, kings, queens and generals have relied on efficient\\ncommunication in order to govern their countries and command their armies. At\\nthe same time, they have all been aware of the consequences of their messages\\nfalling into the wrong hands, revealing precious secrets to rival nations and\\nbetraying vital information to opposing forces. It was the threat of enemy\\ninterception that motivated the development of codes and ciphers: techniques for\\ndisguising a message so that only the intended recipient can read it.\\nThe desire for secrecy has meant that nations have operated codemaking\\ndepartments, responsible for ensuring the security of communications by\\ninventing and implementing the best possible codes. At the same time, enemy\\ncodebreakers have attempted to break these codes, and steal secrets.\\nCodebreakers are linguistic alchemists, a mystical tribe attempting to conjure\\nsensible words out of meaningless symbols. The history of codes and ciphers is\\nthe story of the centuries-old battle between codemakers and codebreakers, an\\nintellectual arms race that has had a dramatic impact on the course of history.\\n\\nSimon Singh, The Code Book'\n"
     ]
    }
   ],
   "source": [
    "pt = cbc.decrypt(ct2)\n",
    "print(\"decrypted pt:\", pt)"
   ],
   "metadata": {
    "collapsed": false
   }
  },
  {
   "cell_type": "code",
   "execution_count": 6,
   "outputs": [],
   "source": [],
   "metadata": {
    "collapsed": false
   }
  },
  {
   "cell_type": "markdown",
   "source": [],
   "metadata": {
    "collapsed": false
   }
  },
  {
   "cell_type": "code",
   "execution_count": 6,
   "outputs": [],
   "source": [],
   "metadata": {
    "collapsed": false
   }
  },
  {
   "cell_type": "code",
   "execution_count": 7,
   "outputs": [],
   "source": [
    "ofb = cui_des.TDES(key3, \"OFB\", iv3)"
   ],
   "metadata": {
    "collapsed": false
   }
  },
  {
   "cell_type": "code",
   "execution_count": 8,
   "outputs": [
    {
     "name": "stdout",
     "output_type": "stream",
     "text": [
      "decrypted pt: b\"On the morning of Saturday, October 15, 1586, Queen Mary entered the crowded courtroom at Fotheringhay Castle. Years of imprisonment and the onset of rheumatism had taken their toll, yet she remained dignified, composed and indisputably regal. Assisted by her physician, she made her way past the judges, officials and spectators, and approached the throne that stood halfway along the long, narrow chamber. Mary had assumed that the throne was a gesture of respect toward her, but she was mistaken. The throne symbolized the absent Queen Elizabeth, Mary's enemy and prosecutor. Mary was gently guided away from the throne and toward the opposite side of the room, to the defendant's seat, a crimson velvet chair.\\nMary Queen of Scots was on trial for treason. She had been accused of plotting to assassinate Queen Elizabeth in order to take the English crown for herself. Sir Francis Walsingham, Elizabeth's Principal Secretary, had already arrested the other conspirators, extracted confessions, and executed them. Now he planned to prove that Mary was at the heart of the plot, and was therefore equally culpable and equally deserving of death. Walsingham knew that before he could have Mary executed, he would have to convince Queen Elizabeth of her guilt. Although Elizabeth despised Mary, she had several reasons for being reluctant to see her put to death. First, Mary was a Scottish queen, and many questioned whether an English court had the authority to execute a foreign head of state. Second, executing Mary might establish an awkward precedent-if the state is allowed to kill one queen, then perhaps rebels might have fewer reservations about killing another, namely Elizabeth. Third, Elizabeth and Mary were cousins, and their blood tie made Elizabeth all the more squeamish about ordering her execution. In short, Elizabeth would sanction Mary's execution only if Walsingham could prove beyond any hint of doubt that she had been part of the assassination plot.\\n\\nSimon Singh, The Code Book\" \n",
      "\n"
     ]
    }
   ],
   "source": [
    "pt = ofb.decrypt(ct3)\n",
    "print(\"decrypted pt:\", pt, \"\\n\")"
   ],
   "metadata": {
    "collapsed": false
   }
  },
  {
   "cell_type": "code",
   "execution_count": 8,
   "outputs": [],
   "source": [],
   "metadata": {
    "collapsed": false
   }
  },
  {
   "cell_type": "code",
   "execution_count": 8,
   "outputs": [],
   "source": [],
   "metadata": {
    "collapsed": false
   }
  }
 ],
 "metadata": {
  "kernelspec": {
   "display_name": "Python 3",
   "language": "python",
   "name": "python3"
  },
  "language_info": {
   "codemirror_mode": {
    "name": "ipython",
    "version": 2
   },
   "file_extension": ".py",
   "mimetype": "text/x-python",
   "name": "python",
   "nbconvert_exporter": "python",
   "pygments_lexer": "ipython2",
   "version": "2.7.6"
  }
 },
 "nbformat": 4,
 "nbformat_minor": 0
}
